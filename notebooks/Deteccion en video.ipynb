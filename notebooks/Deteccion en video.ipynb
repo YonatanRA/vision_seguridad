{
 "cells": [
  {
   "cell_type": "markdown",
   "id": "a159c829",
   "metadata": {},
   "source": [
    "## Detección en video\n",
    "\n",
    "\n",
    "![opencv-tensor](../images/opencv-tensor.webp)"
   ]
  },
  {
   "cell_type": "code",
   "execution_count": null,
   "id": "bed53246",
   "metadata": {},
   "outputs": [],
   "source": [
    "#librerias\n",
    "\n",
    "import cv2\n",
    "\n",
    "from tensorflow.keras.models import load_model\n",
    "\n",
    "from imutils.video import VideoStream\n",
    "import imutils\n",
    "\n",
    "import time\n",
    "\n",
    "from src.detector import detectar"
   ]
  },
  {
   "cell_type": "code",
   "execution_count": null,
   "id": "9ee33454",
   "metadata": {},
   "outputs": [],
   "source": [
    "# tematica a detectar\n",
    "\n",
    "tema='fuego'"
   ]
  },
  {
   "cell_type": "code",
   "execution_count": null,
   "id": "cd10c697",
   "metadata": {},
   "outputs": [],
   "source": [
    "# se carga el modelo detector de caras\n",
    "\n",
    "prototxt='../models/deploy.prototxt'\n",
    "pesos='../models/res10_300x300_ssd_iter_140000.caffemodel'\n",
    "\n",
    "net_cara=cv2.dnn.readNet(prototxt, pesos)"
   ]
  },
  {
   "cell_type": "code",
   "execution_count": null,
   "id": "8cb46ef3",
   "metadata": {},
   "outputs": [],
   "source": [
    "# se carga el modelo detector del tema\n",
    "\n",
    "net_tema=load_model(f'../models/{tema}.model')"
   ]
  },
  {
   "cell_type": "code",
   "execution_count": null,
   "id": "d0f587eb",
   "metadata": {},
   "outputs": [],
   "source": [
    "# inicializa camara web\n",
    "\n",
    "def camara():\n",
    "\n",
    "    cam=VideoStream(src=0).start()\n",
    "    time.sleep(2)\n",
    "\n",
    "    # bucle sobre los frames\n",
    "    while 1:\n",
    "        # coge el frame del video y redimensiona a 400 pixels\n",
    "        frame=cam.read()\n",
    "        frame=imutils.resize(frame, width=400)\n",
    "\n",
    "        # detectar caras en el frame y determinar si hay o no tema\n",
    "        locs, preds=detectar(frame, net_cara, net_tema)\n",
    "\n",
    "        # bucle sobre las caras detectadas y sus localizaciones\n",
    "        for caja, pred in zip(locs, preds):\n",
    "            x_start, y_start, x_end, y_end=caja\n",
    "            con, sin=pred\n",
    "\n",
    "            # determinar la etiqueta y color para dibujar caja y texto (verde y rojo)\n",
    "            etiqueta=tema if con > sin else f'Sin {tema}'\n",
    "            color=(0, 255, 0) if etiqueta==tema else (0, 0, 255)\n",
    "\n",
    "            # incluye la probabilidad en la etiqueta\n",
    "            etiqueta='{}: {:.2f}%'.format(etiqueta, max(con, sin)*100)\n",
    "\n",
    "            # enseña la etiqueta y el limite de la caja en el frame\n",
    "            cv2.putText(frame, \n",
    "                        etiqueta, \n",
    "                        (x_start, y_start-10), \n",
    "                        cv2.FONT_HERSHEY_SIMPLEX, \n",
    "                        .45, color, 2)\n",
    "            \n",
    "            cv2.rectangle(frame, (x_start, y_start), (x_end, y_end), color, 2)\n",
    "\n",
    "        # muestra el frame de salida\n",
    "        cv2.imshow('Camara', frame)\n",
    "        key=cv2.waitKey(1)\n",
    "\n",
    "        # si se presiona la tecla q, rompe el bucle\n",
    "        if key==ord('q'):\n",
    "            break\n",
    "\n",
    "    # limpia pantalla\n",
    "    cv2.destroyAllWindows()\n",
    "    cam.stop()\n"
   ]
  },
  {
   "cell_type": "code",
   "execution_count": null,
   "id": "02ba2029",
   "metadata": {},
   "outputs": [],
   "source": [
    "camara()"
   ]
  },
  {
   "cell_type": "markdown",
   "id": "5efb45ff",
   "metadata": {},
   "source": [
    "![sat](../images/SAT.jpg)"
   ]
  }
 ],
 "metadata": {
  "kernelspec": {
   "display_name": "tensor",
   "language": "python",
   "name": "tensor"
  },
  "language_info": {
   "codemirror_mode": {
    "name": "ipython",
    "version": 3
   },
   "file_extension": ".py",
   "mimetype": "text/x-python",
   "name": "python",
   "nbconvert_exporter": "python",
   "pygments_lexer": "ipython3",
   "version": "3.8.11"
  }
 },
 "nbformat": 4,
 "nbformat_minor": 5
}
