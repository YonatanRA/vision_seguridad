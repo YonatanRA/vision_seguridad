{
 "cells": [
  {
   "cell_type": "markdown",
   "id": "7c163165",
   "metadata": {},
   "source": [
    "## Creación y entrenamiento de una red neuronal con Tensorflow\n",
    "\n",
    "\n",
    "![tensorflow](../images/tensorflow.jpeg)"
   ]
  },
  {
   "cell_type": "markdown",
   "id": "7191e87c",
   "metadata": {},
   "source": [
    "### Primero un poco de teoría\n",
    "\n",
    "![node](../images/node.png)\n",
    "\n",
    "\n",
    "![neural](../images/neural.jpg)"
   ]
  },
  {
   "cell_type": "markdown",
   "id": "38c963e1",
   "metadata": {},
   "source": [
    "### Convolucionales\n",
    "\n",
    "https://en.wikipedia.org/wiki/Convolution\n",
    "\n",
    "\n",
    "![neural2](../images/neural2.webp)\n",
    "\n",
    "![neural3](../images/neural3.gif)\n",
    "\n",
    "![neural4](../images/neural4.png)"
   ]
  },
  {
   "cell_type": "markdown",
   "id": "117314eb",
   "metadata": {},
   "source": [
    "# Entrenamiento del modelo (ajuste)"
   ]
  },
  {
   "cell_type": "code",
   "execution_count": null,
   "id": "aa69f9e7",
   "metadata": {},
   "outputs": [],
   "source": [
    "# librerias\n",
    "import warnings\n",
    "warnings.filterwarnings('ignore')\n",
    "\n",
    "import numpy as np\n",
    "\n",
    "from tensorflow.keras.preprocessing.image import ImageDataGenerator\n",
    "\n",
    "from tensorflow.keras.applications import MobileNetV2\n",
    "from tensorflow.keras.applications.mobilenet_v2 import preprocess_input\n",
    "\n",
    "from tensorflow.keras.layers import AveragePooling2D, Dropout, Flatten, Dense, Input\n",
    "\n",
    "from tensorflow.keras.models import Model\n",
    "\n",
    "from tensorflow.keras.optimizers import Adam\n",
    "\n",
    "from tensorflow.keras.preprocessing.image import img_to_array, load_img\n",
    "from tensorflow.keras.utils import to_categorical\n",
    "\n",
    "from tensorflow.keras.callbacks import TensorBoard\n",
    "\n",
    "from imutils import paths\n",
    "import visualkeras\n",
    "from IPython.display import Image\n",
    "from sklearn.model_selection import train_test_split as tts\n",
    "from sklearn.metrics import classification_report as report\n",
    "import datetime"
   ]
  },
  {
   "cell_type": "code",
   "execution_count": null,
   "id": "d8d9b802",
   "metadata": {},
   "outputs": [],
   "source": [
    "tema='mascara'"
   ]
  },
  {
   "cell_type": "code",
   "execution_count": null,
   "id": "9172ec8c",
   "metadata": {},
   "outputs": [],
   "source": [
    "# visualizacion del entrenamiento con tensorboard, guarda el log\n",
    "\n",
    "%rm -rf ./logs/\n",
    "%load_ext tensorboard"
   ]
  },
  {
   "cell_type": "markdown",
   "id": "1bafecc9",
   "metadata": {},
   "source": [
    "**Cargando y preparando datos**"
   ]
  },
  {
   "cell_type": "code",
   "execution_count": null,
   "id": "940d5366",
   "metadata": {},
   "outputs": [],
   "source": [
    "imagenes=list(paths.list_images(f'../data/dataset_{tema}'))"
   ]
  },
  {
   "cell_type": "code",
   "execution_count": null,
   "id": "8e40cb87",
   "metadata": {},
   "outputs": [],
   "source": [
    "imagenes[0]"
   ]
  },
  {
   "cell_type": "code",
   "execution_count": null,
   "id": "0af2027b",
   "metadata": {},
   "outputs": [],
   "source": [
    "Image(url=imagenes[0], width=300)"
   ]
  },
  {
   "cell_type": "code",
   "execution_count": null,
   "id": "c1f1cb4d",
   "metadata": {},
   "outputs": [],
   "source": [
    "# preparando datos\n",
    "\n",
    "data=[]\n",
    "etiquetas=[]\n",
    "\n",
    "for img in imagenes:\n",
    "    \n",
    "    # etiqueta segun nombre del archivo\n",
    "    if 'con_' in img:\n",
    "        etiquetas.append([0])  # con tema\n",
    "    else:\n",
    "        etiquetas.append([1])  # sin tema\n",
    "    \n",
    "    \n",
    "    # carga la imagen (224x224) y procesala\n",
    "    imagen=load_img(img, target_size=(224, 224))\n",
    "    imagen=img_to_array(imagen)\n",
    "    imagen=preprocess_input(imagen)\n",
    "\n",
    "    # añade a la lista\n",
    "    data.append(imagen)\n",
    "    \n",
    "\n",
    "    \n",
    "# se convierten datos y etiquetas a arrays de numpy\n",
    "data=np.array(data, dtype='float32')\n",
    "etiquetas=np.array(etiquetas)"
   ]
  },
  {
   "cell_type": "code",
   "execution_count": null,
   "id": "2e4f01fd",
   "metadata": {},
   "outputs": [],
   "source": [
    "data[0].shape"
   ]
  },
  {
   "cell_type": "code",
   "execution_count": null,
   "id": "0f1b993f",
   "metadata": {},
   "outputs": [],
   "source": [
    "etiquetas[0]"
   ]
  },
  {
   "cell_type": "code",
   "execution_count": null,
   "id": "5529e94f",
   "metadata": {},
   "outputs": [],
   "source": [
    "# one hot para las etiquetas\n",
    "\n",
    "etiquetas=to_categorical(etiquetas)\n",
    "\n",
    "etiquetas[0]"
   ]
  },
  {
   "cell_type": "code",
   "execution_count": null,
   "id": "157aabeb",
   "metadata": {},
   "outputs": [],
   "source": [
    "# train-test split (separa datos de entrenamiento y testeo)\n",
    "\n",
    "X_train, X_test, y_train, y_test=tts(data, etiquetas, \n",
    "                                     test_size=.2, \n",
    "                                     stratify=etiquetas, \n",
    "                                     random_state=42)"
   ]
  },
  {
   "cell_type": "code",
   "execution_count": null,
   "id": "83fcbf41",
   "metadata": {},
   "outputs": [],
   "source": [
    "X_train.shape"
   ]
  },
  {
   "cell_type": "code",
   "execution_count": null,
   "id": "6de762c3",
   "metadata": {},
   "outputs": [],
   "source": [
    "# aumenta datos con el generador de imagenes\n",
    "\n",
    "img_gen=ImageDataGenerator(rotation_range=20, \n",
    "                           zoom_range=.15,\n",
    "                           width_shift_range=.2, \n",
    "                           height_shift_range=.2,\n",
    "                           shear_range=.15, \n",
    "                           horizontal_flip=True,\n",
    "                           fill_mode='nearest')"
   ]
  },
  {
   "cell_type": "markdown",
   "id": "5d9d41a2",
   "metadata": {},
   "source": [
    "## Modelo - Red Neuronal\n",
    "\n",
    "Se creara el modelo con MobileNetV2, una red para reconocimiento de imagenes preentrenada."
   ]
  },
  {
   "cell_type": "markdown",
   "id": "76ccc116",
   "metadata": {},
   "source": [
    "**constantes**"
   ]
  },
  {
   "cell_type": "code",
   "execution_count": null,
   "id": "f0b457ac",
   "metadata": {},
   "outputs": [],
   "source": [
    "TASA=1e-4    # tasa de aprendizaje\n",
    "\n",
    "EPOCAS=5     # epocas de entrenamiento\n",
    "\n",
    "BATCH=32     # tamaño del batch (muestra de datos que pasan a la red para entrenar)"
   ]
  },
  {
   "cell_type": "markdown",
   "id": "0a6e6859",
   "metadata": {},
   "source": [
    "**Red**"
   ]
  },
  {
   "cell_type": "code",
   "execution_count": null,
   "id": "0c3ad968",
   "metadata": {},
   "outputs": [],
   "source": [
    "# se carga MobileNetV2 sin el clasificador\n",
    "modelo_base=MobileNetV2(weights='imagenet', \n",
    "                        include_top=False, \n",
    "                        input_tensor=Input(shape=(224, 224, 3)))\n",
    "\n",
    "\n",
    "# se contruye el nuevo clasificador\n",
    "modelo_x=modelo_base.output\n",
    "\n",
    "modelo_x=AveragePooling2D(pool_size=(7, 7))(modelo_x)\n",
    "\n",
    "modelo_x=Flatten(name='flatten')(modelo_x)\n",
    "\n",
    "modelo_x=Dense(128, activation='relu')(modelo_x)\n",
    "\n",
    "modelo_x=Dropout(.5)(modelo_x)\n",
    "\n",
    "modelo_x=Dense(2, activation='softmax')(modelo_x)\n",
    "\n",
    "\n",
    "\n",
    "# se pone todo junto\n",
    "modelo=Model(inputs=modelo_base.input, outputs=modelo_x)"
   ]
  },
  {
   "cell_type": "code",
   "execution_count": null,
   "id": "69417283",
   "metadata": {},
   "outputs": [],
   "source": [
    "# se congela el entrenamiento del modelo base, aprovechamos el preentreno\n",
    "\n",
    "for capa in modelo_base.layers:\n",
    "    capa.trainable=False"
   ]
  },
  {
   "cell_type": "code",
   "execution_count": null,
   "id": "bcc097ed",
   "metadata": {},
   "outputs": [],
   "source": [
    "# se compila el modelo\n",
    "\n",
    "optimizador=Adam(lr=TASA, \n",
    "                 decay=TASA / EPOCAS)\n",
    "\n",
    "modelo.compile(loss='binary_crossentropy', \n",
    "               optimizer=optimizador, \n",
    "               metrics=['accuracy'])"
   ]
  },
  {
   "cell_type": "code",
   "execution_count": null,
   "id": "6b4b5a92",
   "metadata": {
    "scrolled": false
   },
   "outputs": [],
   "source": [
    "modelo.summary() # resumen de la red"
   ]
  },
  {
   "cell_type": "code",
   "execution_count": null,
   "id": "b9671c48",
   "metadata": {},
   "outputs": [],
   "source": [
    "visualkeras.layered_view(modelo)"
   ]
  },
  {
   "cell_type": "code",
   "execution_count": null,
   "id": "eba75597",
   "metadata": {},
   "outputs": [],
   "source": [
    "%tensorboard --logdir logs/fit"
   ]
  },
  {
   "cell_type": "markdown",
   "id": "0927e180",
   "metadata": {},
   "source": [
    "http://localhost:6006/"
   ]
  },
  {
   "cell_type": "code",
   "execution_count": null,
   "id": "6bec1449",
   "metadata": {},
   "outputs": [],
   "source": [
    "#help(TensorBoard)"
   ]
  },
  {
   "cell_type": "code",
   "execution_count": null,
   "id": "01ffbd77",
   "metadata": {},
   "outputs": [],
   "source": [
    "%%time\n",
    "\n",
    "# se entrena el clasificador con las imagenes\n",
    "\n",
    "print('Entrenando modelo...')\n",
    "\n",
    "log_dir = \"logs/fit/\" + datetime.datetime.now().strftime(\"%Y%m%d-%H%M%S\")\n",
    "tensorboard_callback = TensorBoard(log_dir=log_dir, \n",
    "                                   histogram_freq=1,\n",
    "                                   write_graph=1,\n",
    "                                   write_images=1,\n",
    "                                   write_steps_per_second=1)\n",
    "\n",
    "\n",
    "historico=modelo.fit(img_gen.flow(X_train, y_train, batch_size=BATCH), \n",
    "                     steps_per_epoch=len(X_train)//BATCH,\n",
    "                     validation_data=(X_test, y_test), \n",
    "                     validation_steps=len(X_test)//BATCH, \n",
    "                     epochs=EPOCAS,\n",
    "                     callbacks=[tensorboard_callback])\n",
    "\n",
    "print('Entrenado.')"
   ]
  },
  {
   "cell_type": "code",
   "execution_count": null,
   "id": "bad86593",
   "metadata": {},
   "outputs": [],
   "source": [
    "# haciendo predicciones\n",
    "preds=modelo.predict(X_test, batch_size=BATCH)\n",
    "\n",
    "preds[0]  # en probabilidad"
   ]
  },
  {
   "cell_type": "code",
   "execution_count": null,
   "id": "cfb6a97c",
   "metadata": {},
   "outputs": [],
   "source": [
    "# la mayor prob de pertenencia, en 0/1\n",
    "\n",
    "preds=np.argmax(preds, axis=1)\n",
    "\n",
    "preds[0]  "
   ]
  },
  {
   "cell_type": "code",
   "execution_count": null,
   "id": "c8ac6856",
   "metadata": {},
   "outputs": [],
   "source": [
    "# informe de clasificacion\n",
    "\n",
    "print(report(y_test.argmax(axis=1), preds, target_names=['con_', 'sin_']))"
   ]
  },
  {
   "cell_type": "code",
   "execution_count": null,
   "id": "8051feac",
   "metadata": {},
   "outputs": [],
   "source": [
    "# guardando modelo en formato h5\n",
    "\n",
    "modelo.save(f'../models/{tema}.model', save_format='h5')\n"
   ]
  },
  {
   "cell_type": "code",
   "execution_count": null,
   "id": "c9a5b862",
   "metadata": {},
   "outputs": [],
   "source": []
  }
 ],
 "metadata": {
  "kernelspec": {
   "display_name": "tensor",
   "language": "python",
   "name": "tensor"
  },
  "language_info": {
   "codemirror_mode": {
    "name": "ipython",
    "version": 3
   },
   "file_extension": ".py",
   "mimetype": "text/x-python",
   "name": "python",
   "nbconvert_exporter": "python",
   "pygments_lexer": "ipython3",
   "version": "3.8.11"
  }
 },
 "nbformat": 4,
 "nbformat_minor": 5
}
